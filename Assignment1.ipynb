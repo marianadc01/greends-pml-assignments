{
  "nbformat": 4,
  "nbformat_minor": 0,
  "metadata": {
    "colab": {
      "provenance": [],
      "authorship_tag": "ABX9TyOqvnTj/rDsELO4jIrm8Wnr",
      "include_colab_link": true
    },
    "kernelspec": {
      "name": "python3",
      "display_name": "Python 3"
    },
    "language_info": {
      "name": "python"
    }
  },
  "cells": [
    {
      "cell_type": "markdown",
      "metadata": {
        "id": "view-in-github",
        "colab_type": "text"
      },
      "source": [
        "<a href=\"https://colab.research.google.com/github/marianadc01/pml-assignments/blob/main/Assignment1.ipynb\" target=\"_parent\"><img src=\"https://colab.research.google.com/assets/colab-badge.svg\" alt=\"Open In Colab\"/></a>"
      ]
    },
    {
      "cell_type": "markdown",
      "source": [
        "Mariana Dias Coelho (25605)\n",
        "\n",
        "Practical Machine Learning\n",
        "\n",
        "MSc in Green Data Science\n",
        "2023/2024"
      ],
      "metadata": {
        "id": "_o-o26sJeczo"
      }
    },
    {
      "cell_type": "markdown",
      "source": [
        "So, for this assignment, we will be creating a notebook to download images (to a Google Drive folder with a prompt (e.g. 'corn leaf'), using the google images library.\n",
        "\n",
        "The first thing to do is to instal the google images download library:"
      ],
      "metadata": {
        "id": "H9GUh1nNe2jK"
      }
    },
    {
      "cell_type": "code",
      "execution_count": null,
      "metadata": {
        "colab": {
          "base_uri": "https://localhost:8080/"
        },
        "id": "gAZOxj5aeQzX",
        "outputId": "b67cd1d4-bbcd-4c18-ad72-b2012994b387"
      },
      "outputs": [
        {
          "output_type": "stream",
          "name": "stdout",
          "text": [
            "Requirement already satisfied: google_images_download in /usr/local/lib/python3.10/dist-packages (2.8.0)\n",
            "Requirement already satisfied: selenium in /usr/local/lib/python3.10/dist-packages (from google_images_download) (4.18.1)\n",
            "Requirement already satisfied: urllib3[socks]<3,>=1.26 in /usr/local/lib/python3.10/dist-packages (from selenium->google_images_download) (2.0.7)\n",
            "Requirement already satisfied: trio~=0.17 in /usr/local/lib/python3.10/dist-packages (from selenium->google_images_download) (0.24.0)\n",
            "Requirement already satisfied: trio-websocket~=0.9 in /usr/local/lib/python3.10/dist-packages (from selenium->google_images_download) (0.11.1)\n",
            "Requirement already satisfied: certifi>=2021.10.8 in /usr/local/lib/python3.10/dist-packages (from selenium->google_images_download) (2024.2.2)\n",
            "Requirement already satisfied: typing_extensions>=4.9.0 in /usr/local/lib/python3.10/dist-packages (from selenium->google_images_download) (4.9.0)\n",
            "Requirement already satisfied: attrs>=20.1.0 in /usr/local/lib/python3.10/dist-packages (from trio~=0.17->selenium->google_images_download) (23.2.0)\n",
            "Requirement already satisfied: sortedcontainers in /usr/local/lib/python3.10/dist-packages (from trio~=0.17->selenium->google_images_download) (2.4.0)\n",
            "Requirement already satisfied: idna in /usr/local/lib/python3.10/dist-packages (from trio~=0.17->selenium->google_images_download) (3.6)\n",
            "Requirement already satisfied: outcome in /usr/local/lib/python3.10/dist-packages (from trio~=0.17->selenium->google_images_download) (1.3.0.post0)\n",
            "Requirement already satisfied: sniffio>=1.3.0 in /usr/local/lib/python3.10/dist-packages (from trio~=0.17->selenium->google_images_download) (1.3.0)\n",
            "Requirement already satisfied: exceptiongroup in /usr/local/lib/python3.10/dist-packages (from trio~=0.17->selenium->google_images_download) (1.2.0)\n",
            "Requirement already satisfied: wsproto>=0.14 in /usr/local/lib/python3.10/dist-packages (from trio-websocket~=0.9->selenium->google_images_download) (1.2.0)\n",
            "Requirement already satisfied: pysocks!=1.5.7,<2.0,>=1.5.6 in /usr/local/lib/python3.10/dist-packages (from urllib3[socks]<3,>=1.26->selenium->google_images_download) (1.7.1)\n",
            "Requirement already satisfied: h11<1,>=0.9.0 in /usr/local/lib/python3.10/dist-packages (from wsproto>=0.14->trio-websocket~=0.9->selenium->google_images_download) (0.14.0)\n"
          ]
        }
      ],
      "source": [
        "!pip install google_images_download"
      ]
    },
    {
      "cell_type": "markdown",
      "source": [
        "Then, we will import the necessary library to the notebook:"
      ],
      "metadata": {
        "id": "ZHIEiYZrfefM"
      }
    },
    {
      "cell_type": "code",
      "source": [
        "from google_images_download import google_images_download"
      ],
      "metadata": {
        "id": "jSXSZV-ZfZZs"
      },
      "execution_count": null,
      "outputs": []
    },
    {
      "cell_type": "markdown",
      "source": [
        "Afterwards, we will download the images to the Google Drive folder:"
      ],
      "metadata": {
        "id": "5WeG7V2FfunU"
      }
    },
    {
      "cell_type": "code",
      "source": [
        "def download_images(keyword, limit, download_path):\n",
        "    response = google_images_download.googleimagesdownload()\n",
        "    arguments = {\n",
        "        \"keywords\": keyword,\n",
        "        \"limit\": limit,\n",
        "        \"output_directory\": download_path\n",
        "    }\n",
        "    paths = response.download(arguments)\n",
        "    print(paths)\n",
        "\n",
        "keyword = \"corn leaf\"\n",
        "limit = 10\n",
        "download_path = './gdrive/MyDrive/PML_2024/Introduction/corn_leaf'\n",
        "download_images(keyword, limit, download_path)"
      ],
      "metadata": {
        "colab": {
          "base_uri": "https://localhost:8080/"
        },
        "id": "yTbrImedgDI1",
        "outputId": "fa5dcea0-4a44-464b-cd0b-d9c1a6b747d5"
      },
      "execution_count": null,
      "outputs": [
        {
          "output_type": "stream",
          "name": "stdout",
          "text": [
            "\n",
            "Item no.: 1 --> Item name = corn leaf\n",
            "Evaluating...\n",
            "Starting Download...\n",
            "\n",
            "\n",
            "Unfortunately all 10 could not be downloaded because some images were not downloadable. 0 is all we got for this search filter!\n",
            "\n",
            "Errors: 0\n",
            "\n",
            "({'corn leaf': []}, 0)\n"
          ]
        }
      ]
    },
    {
      "cell_type": "markdown",
      "source": [
        "Next, we will need to make sure the Google Drive folder is able to access and save files in it. So we will mount Google Drive:"
      ],
      "metadata": {
        "id": "URa282qygw3c"
      }
    },
    {
      "cell_type": "code",
      "source": [
        "from google.colab import drive\n",
        "drive.mount('/content/drive')"
      ],
      "metadata": {
        "colab": {
          "base_uri": "https://localhost:8080/"
        },
        "id": "0z1XXMAHg97m",
        "outputId": "1b09f363-0683-418c-ecf1-a955186bacf5"
      },
      "execution_count": null,
      "outputs": [
        {
          "output_type": "stream",
          "name": "stdout",
          "text": [
            "Drive already mounted at /content/drive; to attempt to forcibly remount, call drive.mount(\"/content/drive\", force_remount=True).\n"
          ]
        }
      ]
    }
  ]
}